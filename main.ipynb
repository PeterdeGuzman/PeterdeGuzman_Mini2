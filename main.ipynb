{
 "cells": [
  {
   "cell_type": "markdown",
   "metadata": {},
   "source": [
    "## Age Analysis of Registered Voters in Tyrell County, North Carolina, United States of America\n",
    "\n",
    "### Introduction\n",
    "This project analyzed the distribution of age for registered voters in Tyrell County, North Carolina. The data used in this analysis was sourced from the North Carolina State Board of Elections. A small subset of this data was used to for this analysis. Please note that this is not a representative sample of registered voters in Tyrell County, North Carolina. "
   ]
  },
  {
   "cell_type": "markdown",
   "metadata": {},
   "source": [
    "### Descriptive Statistics"
   ]
  },
  {
   "cell_type": "code",
   "execution_count": null,
   "metadata": {
    "vscode": {
     "languageId": "plaintext"
    }
   },
   "outputs": [],
   "source": [
    "# import packages\n",
    "import pandas as pd\n",
    "import matplotlib.pyplot as plt\n",
    "import matplotlib.ticker as ticker\n"
   ]
  },
  {
   "cell_type": "code",
   "execution_count": null,
   "metadata": {
    "vscode": {
     "languageId": "plaintext"
    }
   },
   "outputs": [],
   "source": [
    "# Load Data\n"
   ]
  },
  {
   "cell_type": "code",
   "execution_count": null,
   "metadata": {
    "vscode": {
     "languageId": "plaintext"
    }
   },
   "outputs": [],
   "source": [
    "# Calculate Mean, Median, and Standard Deviation "
   ]
  },
  {
   "cell_type": "markdown",
   "metadata": {},
   "source": [
    "### Data Visualization\n",
    "\n",
    "To visualize the distribution of age among this non-representative sample of registered voters in Tyrell County, North Carolina, we use a histogram created with the matplotlib Python package. "
   ]
  },
  {
   "cell_type": "code",
   "execution_count": null,
   "metadata": {
    "vscode": {
     "languageId": "plaintext"
    }
   },
   "outputs": [],
   "source": [
    "def generate_histogram_age(df):\n",
    "    age_column = [col for col in df.columns if \"age\" in col]\n",
    "    plt.figure(figsize=(10, 6))\n",
    "    bins = 6\n",
    "    plt.hist(df[age_column], color=\"orange\", bins=bins, edgecolor=\"black\")\n",
    "    plt.title(\"Age Distribution for Registered Voters in Durham County, NC\")\n",
    "    plt.xlabel(\"Age\")\n",
    "    plt.ylabel(\"Frequency\")\n",
    "    plt.gca().yaxis.set_major_formatter(\n",
    "        ticker.FuncFormatter(lambda x, _: f\"{int(x):,}\")\n",
    "    )\n",
    "\n",
    "    plt.savefig(\"output.png\")\n",
    "    plt.show()\n",
    "\n"
   ]
  },
  {
   "cell_type": "markdown",
   "metadata": {},
   "source": [
    "### Conclusion"
   ]
  }
 ],
 "metadata": {
  "language_info": {
   "name": "python"
  }
 },
 "nbformat": 4,
 "nbformat_minor": 2
}
